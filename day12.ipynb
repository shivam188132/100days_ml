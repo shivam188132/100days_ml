{
 "cells": [
  {
   "cell_type": "code",
   "execution_count": null,
   "id": "3c6ddd8c-17aa-4e5e-8778-54a40e88129b",
   "metadata": {},
   "outputs": [],
   "source": []
  },
  {
   "cell_type": "code",
   "execution_count": null,
   "id": "157c2d26-64d6-49a5-ac99-0cf012ef8426",
   "metadata": {},
   "outputs": [],
   "source": []
  },
  {
   "cell_type": "code",
   "execution_count": 1,
   "id": "9e979595-9f29-4df1-a134-0b5b28fb9378",
   "metadata": {},
   "outputs": [],
   "source": [
    "import numpy"
   ]
  },
  {
   "cell_type": "code",
   "execution_count": 2,
   "id": "2686f145-14a3-41d8-8ee7-0c70274e12f4",
   "metadata": {},
   "outputs": [
    {
     "name": "stdout",
     "output_type": "stream",
     "text": [
      "Requirement already satisfied: numpy in c:\\users\\shiva\\appdata\\roaming\\python\\python311\\site-packages (1.25.0)\n"
     ]
    }
   ],
   "source": [
    "!pip install numpy"
   ]
  },
  {
   "cell_type": "code",
   "execution_count": 3,
   "id": "8994aab4-eefc-4088-9637-bf8051de04de",
   "metadata": {},
   "outputs": [
    {
     "name": "stdout",
     "output_type": "stream",
     "text": [
      "C:\\Users\\shiva\\anaconda3\\envs\\campusX\\python.exe\n",
      "['D:\\\\DATA SCIENCE\\\\machine learning\\\\100 Days', 'C:\\\\Users\\\\shiva\\\\anaconda3\\\\envs\\\\campusX\\\\python311.zip', 'C:\\\\Users\\\\shiva\\\\anaconda3\\\\envs\\\\campusX\\\\DLLs', 'C:\\\\Users\\\\shiva\\\\anaconda3\\\\envs\\\\campusX\\\\Lib', 'C:\\\\Users\\\\shiva\\\\anaconda3\\\\envs\\\\campusX', '', 'C:\\\\Users\\\\shiva\\\\AppData\\\\Roaming\\\\Python\\\\Python311\\\\site-packages', 'C:\\\\Users\\\\shiva\\\\AppData\\\\Roaming\\\\Python\\\\Python311\\\\site-packages\\\\win32', 'C:\\\\Users\\\\shiva\\\\AppData\\\\Roaming\\\\Python\\\\Python311\\\\site-packages\\\\win32\\\\lib', 'C:\\\\Users\\\\shiva\\\\AppData\\\\Roaming\\\\Python\\\\Python311\\\\site-packages\\\\Pythonwin', 'C:\\\\Users\\\\shiva\\\\anaconda3\\\\envs\\\\campusX\\\\Lib\\\\site-packages', 'C:\\\\Users\\\\shiva\\\\anaconda3\\\\envs\\\\campusX\\\\Lib\\\\site-packages\\\\win32', 'C:\\\\Users\\\\shiva\\\\anaconda3\\\\envs\\\\campusX\\\\Lib\\\\site-packages\\\\win32\\\\lib', 'C:\\\\Users\\\\shiva\\\\anaconda3\\\\envs\\\\campusX\\\\Lib\\\\site-packages\\\\Pythonwin']\n"
     ]
    }
   ],
   "source": [
    "import sys\n",
    "print(sys.executable)\n",
    "print(sys.path)"
   ]
  },
  {
   "cell_type": "code",
   "execution_count": 4,
   "id": "04973896-0f85-4ced-aba3-06df4f83ae6a",
   "metadata": {},
   "outputs": [
    {
     "name": "stdout",
     "output_type": "stream",
     "text": [
      "Requirement already satisfied: numpy in c:\\users\\shiva\\appdata\\roaming\\python\\python311\\site-packages (1.25.0)\n",
      "Note: you may need to restart the kernel to use updated packages.\n"
     ]
    }
   ],
   "source": [
    "%pip install numpy\n"
   ]
  },
  {
   "cell_type": "code",
   "execution_count": null,
   "id": "6a575db9-fb09-4b5c-b5c5-f076fa45ae67",
   "metadata": {},
   "outputs": [],
   "source": []
  }
 ],
 "metadata": {
  "kernelspec": {
   "display_name": "Python (campusX)",
   "language": "python",
   "name": "campusx"
  },
  "language_info": {
   "codemirror_mode": {
    "name": "ipython",
    "version": 3
   },
   "file_extension": ".py",
   "mimetype": "text/x-python",
   "name": "python",
   "nbconvert_exporter": "python",
   "pygments_lexer": "ipython3",
   "version": "3.11.9"
  }
 },
 "nbformat": 4,
 "nbformat_minor": 5
}
