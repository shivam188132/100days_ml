{
  "nbformat": 4,
  "nbformat_minor": 0,
  "metadata": {
    "colab": {
      "provenance": []
    },
    "kernelspec": {
      "name": "python3",
      "display_name": "Python 3"
    },
    "language_info": {
      "name": "python"
    }
  },
  "cells": [
    {
      "cell_type": "code",
      "execution_count": 59,
      "metadata": {
        "id": "hewMleIuOO5e"
      },
      "outputs": [],
      "source": [
        "import pickle\n",
        "import numpy as np"
      ]
    },
    {
      "cell_type": "code",
      "source": [
        "ohe_sex = pickle.load(open('ohe_sex.pkl', 'rb'))\n",
        "ohe_embarked = pickle.load(open('ohe_embarked.pkl', 'rb'))\n",
        "clf = pickle.load(open('model.pkl', 'rb'))"
      ],
      "metadata": {
        "id": "l36_3iXHOfci"
      },
      "execution_count": 60,
      "outputs": []
    },
    {
      "cell_type": "code",
      "source": [
        "# passing some user input\n",
        "test_input = np.array([2,'male', 31.0,0,0,10.5, 'S'], dtype=object).reshape(1,7)"
      ],
      "metadata": {
        "id": "86wjlhYPO3h0"
      },
      "execution_count": 61,
      "outputs": []
    },
    {
      "cell_type": "code",
      "source": [
        "test_input"
      ],
      "metadata": {
        "colab": {
          "base_uri": "https://localhost:8080/"
        },
        "id": "15rGjnkLP7ZZ",
        "outputId": "4b5d7cff-feb2-4852-b6fe-55597fc662c1"
      },
      "execution_count": 62,
      "outputs": [
        {
          "output_type": "execute_result",
          "data": {
            "text/plain": [
              "array([[2, 'male', 31.0, 0, 0, 10.5, 'S']], dtype=object)"
            ]
          },
          "metadata": {},
          "execution_count": 62
        }
      ]
    },
    {
      "cell_type": "code",
      "source": [
        "test_input[:,1].reshape(1,1)"
      ],
      "metadata": {
        "colab": {
          "base_uri": "https://localhost:8080/"
        },
        "id": "_CVpM2KARETQ",
        "outputId": "65df2ef0-f607-4b09-9e38-f0d4628e812d"
      },
      "execution_count": 63,
      "outputs": [
        {
          "output_type": "execute_result",
          "data": {
            "text/plain": [
              "array([['male']], dtype=object)"
            ]
          },
          "metadata": {},
          "execution_count": 63
        }
      ]
    },
    {
      "cell_type": "code",
      "source": [
        "ohe_sex"
      ],
      "metadata": {
        "colab": {
          "base_uri": "https://localhost:8080/",
          "height": 74
        },
        "id": "rZZbaKeERdP-",
        "outputId": "558ff932-e63c-4c5c-b126-007b19cb26c0"
      },
      "execution_count": 64,
      "outputs": [
        {
          "output_type": "execute_result",
          "data": {
            "text/plain": [
              "OneHotEncoder(handle_unknown='ignore', sparse=False, sparse_output=False)"
            ],
            "text/html": [
              "<style>#sk-container-id-2 {color: black;}#sk-container-id-2 pre{padding: 0;}#sk-container-id-2 div.sk-toggleable {background-color: white;}#sk-container-id-2 label.sk-toggleable__label {cursor: pointer;display: block;width: 100%;margin-bottom: 0;padding: 0.3em;box-sizing: border-box;text-align: center;}#sk-container-id-2 label.sk-toggleable__label-arrow:before {content: \"▸\";float: left;margin-right: 0.25em;color: #696969;}#sk-container-id-2 label.sk-toggleable__label-arrow:hover:before {color: black;}#sk-container-id-2 div.sk-estimator:hover label.sk-toggleable__label-arrow:before {color: black;}#sk-container-id-2 div.sk-toggleable__content {max-height: 0;max-width: 0;overflow: hidden;text-align: left;background-color: #f0f8ff;}#sk-container-id-2 div.sk-toggleable__content pre {margin: 0.2em;color: black;border-radius: 0.25em;background-color: #f0f8ff;}#sk-container-id-2 input.sk-toggleable__control:checked~div.sk-toggleable__content {max-height: 200px;max-width: 100%;overflow: auto;}#sk-container-id-2 input.sk-toggleable__control:checked~label.sk-toggleable__label-arrow:before {content: \"▾\";}#sk-container-id-2 div.sk-estimator input.sk-toggleable__control:checked~label.sk-toggleable__label {background-color: #d4ebff;}#sk-container-id-2 div.sk-label input.sk-toggleable__control:checked~label.sk-toggleable__label {background-color: #d4ebff;}#sk-container-id-2 input.sk-hidden--visually {border: 0;clip: rect(1px 1px 1px 1px);clip: rect(1px, 1px, 1px, 1px);height: 1px;margin: -1px;overflow: hidden;padding: 0;position: absolute;width: 1px;}#sk-container-id-2 div.sk-estimator {font-family: monospace;background-color: #f0f8ff;border: 1px dotted black;border-radius: 0.25em;box-sizing: border-box;margin-bottom: 0.5em;}#sk-container-id-2 div.sk-estimator:hover {background-color: #d4ebff;}#sk-container-id-2 div.sk-parallel-item::after {content: \"\";width: 100%;border-bottom: 1px solid gray;flex-grow: 1;}#sk-container-id-2 div.sk-label:hover label.sk-toggleable__label {background-color: #d4ebff;}#sk-container-id-2 div.sk-serial::before {content: \"\";position: absolute;border-left: 1px solid gray;box-sizing: border-box;top: 0;bottom: 0;left: 50%;z-index: 0;}#sk-container-id-2 div.sk-serial {display: flex;flex-direction: column;align-items: center;background-color: white;padding-right: 0.2em;padding-left: 0.2em;position: relative;}#sk-container-id-2 div.sk-item {position: relative;z-index: 1;}#sk-container-id-2 div.sk-parallel {display: flex;align-items: stretch;justify-content: center;background-color: white;position: relative;}#sk-container-id-2 div.sk-item::before, #sk-container-id-2 div.sk-parallel-item::before {content: \"\";position: absolute;border-left: 1px solid gray;box-sizing: border-box;top: 0;bottom: 0;left: 50%;z-index: -1;}#sk-container-id-2 div.sk-parallel-item {display: flex;flex-direction: column;z-index: 1;position: relative;background-color: white;}#sk-container-id-2 div.sk-parallel-item:first-child::after {align-self: flex-end;width: 50%;}#sk-container-id-2 div.sk-parallel-item:last-child::after {align-self: flex-start;width: 50%;}#sk-container-id-2 div.sk-parallel-item:only-child::after {width: 0;}#sk-container-id-2 div.sk-dashed-wrapped {border: 1px dashed gray;margin: 0 0.4em 0.5em 0.4em;box-sizing: border-box;padding-bottom: 0.4em;background-color: white;}#sk-container-id-2 div.sk-label label {font-family: monospace;font-weight: bold;display: inline-block;line-height: 1.2em;}#sk-container-id-2 div.sk-label-container {text-align: center;}#sk-container-id-2 div.sk-container {/* jupyter's `normalize.less` sets `[hidden] { display: none; }` but bootstrap.min.css set `[hidden] { display: none !important; }` so we also need the `!important` here to be able to override the default hidden behavior on the sphinx rendered scikit-learn.org. See: https://github.com/scikit-learn/scikit-learn/issues/21755 */display: inline-block !important;position: relative;}#sk-container-id-2 div.sk-text-repr-fallback {display: none;}</style><div id=\"sk-container-id-2\" class=\"sk-top-container\"><div class=\"sk-text-repr-fallback\"><pre>OneHotEncoder(handle_unknown=&#x27;ignore&#x27;, sparse=False, sparse_output=False)</pre><b>In a Jupyter environment, please rerun this cell to show the HTML representation or trust the notebook. <br />On GitHub, the HTML representation is unable to render, please try loading this page with nbviewer.org.</b></div><div class=\"sk-container\" hidden><div class=\"sk-item\"><div class=\"sk-estimator sk-toggleable\"><input class=\"sk-toggleable__control sk-hidden--visually\" id=\"sk-estimator-id-2\" type=\"checkbox\" checked><label for=\"sk-estimator-id-2\" class=\"sk-toggleable__label sk-toggleable__label-arrow\">OneHotEncoder</label><div class=\"sk-toggleable__content\"><pre>OneHotEncoder(handle_unknown=&#x27;ignore&#x27;, sparse=False, sparse_output=False)</pre></div></div></div></div></div>"
            ]
          },
          "metadata": {},
          "execution_count": 64
        }
      ]
    },
    {
      "cell_type": "code",
      "source": [
        "test_input[:,1].reshape(1,1)"
      ],
      "metadata": {
        "colab": {
          "base_uri": "https://localhost:8080/"
        },
        "id": "BCUt9jGmwxE8",
        "outputId": "bef9589a-454d-4e81-8608-f7b3606b6cff"
      },
      "execution_count": 65,
      "outputs": [
        {
          "output_type": "execute_result",
          "data": {
            "text/plain": [
              "array([['male']], dtype=object)"
            ]
          },
          "metadata": {},
          "execution_count": 65
        }
      ]
    },
    {
      "cell_type": "code",
      "source": [
        "type(ohe_sex)"
      ],
      "metadata": {
        "colab": {
          "base_uri": "https://localhost:8080/",
          "height": 221
        },
        "id": "-UrBtEpwyuPl",
        "outputId": "2c1fdaec-1195-4dd5-a78f-40b1accb65ae"
      },
      "execution_count": 66,
      "outputs": [
        {
          "output_type": "execute_result",
          "data": {
            "text/plain": [
              "sklearn.preprocessing._encoders.OneHotEncoder"
            ],
            "text/html": [
              "<div style=\"max-width:800px; border: 1px solid var(--colab-border-color);\"><style>\n",
              "      pre.function-repr-contents {\n",
              "        overflow-x: auto;\n",
              "        padding: 8px 12px;\n",
              "        max-height: 500px;\n",
              "      }\n",
              "\n",
              "      pre.function-repr-contents.function-repr-contents-collapsed {\n",
              "        cursor: pointer;\n",
              "        max-height: 100px;\n",
              "      }\n",
              "    </style>\n",
              "    <pre style=\"white-space: initial; background:\n",
              "         var(--colab-secondary-surface-color); padding: 8px 12px;\n",
              "         border-bottom: 1px solid var(--colab-border-color);\"><b>sklearn.preprocessing._encoders.OneHotEncoder</b><br/>def __init__(*, categories=&#x27;auto&#x27;, drop=None, sparse=&#x27;deprecated&#x27;, sparse_output=True, dtype=np.float64, handle_unknown=&#x27;error&#x27;, min_frequency=None, max_categories=None, feature_name_combiner=&#x27;concat&#x27;)</pre><pre class=\"function-repr-contents function-repr-contents-collapsed\" style=\"\"><a class=\"filepath\" style=\"display:none\" href=\"#\">/usr/local/lib/python3.10/dist-packages/sklearn/preprocessing/_encoders.py</a>Encode categorical features as a one-hot numeric array.\n",
              "\n",
              "The input to this transformer should be an array-like of integers or\n",
              "strings, denoting the values taken on by categorical (discrete) features.\n",
              "The features are encoded using a one-hot (aka &#x27;one-of-K&#x27; or &#x27;dummy&#x27;)\n",
              "encoding scheme. This creates a binary column for each category and\n",
              "returns a sparse matrix or dense array (depending on the ``sparse_output``\n",
              "parameter)\n",
              "\n",
              "By default, the encoder derives the categories based on the unique values\n",
              "in each feature. Alternatively, you can also specify the `categories`\n",
              "manually.\n",
              "\n",
              "This encoding is needed for feeding categorical data to many scikit-learn\n",
              "estimators, notably linear models and SVMs with the standard kernels.\n",
              "\n",
              "Note: a one-hot encoding of y labels should use a LabelBinarizer\n",
              "instead.\n",
              "\n",
              "Read more in the :ref:`User Guide &lt;preprocessing_categorical_features&gt;`.\n",
              "For a comparison of different encoders, refer to:\n",
              ":ref:`sphx_glr_auto_examples_preprocessing_plot_target_encoder.py`.\n",
              "\n",
              "Parameters\n",
              "----------\n",
              "categories : &#x27;auto&#x27; or a list of array-like, default=&#x27;auto&#x27;\n",
              "    Categories (unique values) per feature:\n",
              "\n",
              "    - &#x27;auto&#x27; : Determine categories automatically from the training data.\n",
              "    - list : ``categories[i]`` holds the categories expected in the ith\n",
              "      column. The passed categories should not mix strings and numeric\n",
              "      values within a single feature, and should be sorted in case of\n",
              "      numeric values.\n",
              "\n",
              "    The used categories can be found in the ``categories_`` attribute.\n",
              "\n",
              "    .. versionadded:: 0.20\n",
              "\n",
              "drop : {&#x27;first&#x27;, &#x27;if_binary&#x27;} or an array-like of shape (n_features,),             default=None\n",
              "    Specifies a methodology to use to drop one of the categories per\n",
              "    feature. This is useful in situations where perfectly collinear\n",
              "    features cause problems, such as when feeding the resulting data\n",
              "    into an unregularized linear regression model.\n",
              "\n",
              "    However, dropping one category breaks the symmetry of the original\n",
              "    representation and can therefore induce a bias in downstream models,\n",
              "    for instance for penalized linear classification or regression models.\n",
              "\n",
              "    - None : retain all features (the default).\n",
              "    - &#x27;first&#x27; : drop the first category in each feature. If only one\n",
              "      category is present, the feature will be dropped entirely.\n",
              "    - &#x27;if_binary&#x27; : drop the first category in each feature with two\n",
              "      categories. Features with 1 or more than 2 categories are\n",
              "      left intact.\n",
              "    - array : ``drop[i]`` is the category in feature ``X[:, i]`` that\n",
              "      should be dropped.\n",
              "\n",
              "    When `max_categories` or `min_frequency` is configured to group\n",
              "    infrequent categories, the dropping behavior is handled after the\n",
              "    grouping.\n",
              "\n",
              "    .. versionadded:: 0.21\n",
              "       The parameter `drop` was added in 0.21.\n",
              "\n",
              "    .. versionchanged:: 0.23\n",
              "       The option `drop=&#x27;if_binary&#x27;` was added in 0.23.\n",
              "\n",
              "    .. versionchanged:: 1.1\n",
              "        Support for dropping infrequent categories.\n",
              "\n",
              "sparse : bool, default=True\n",
              "    Will return sparse matrix if set True else will return an array.\n",
              "\n",
              "    .. deprecated:: 1.2\n",
              "       `sparse` is deprecated in 1.2 and will be removed in 1.4. Use\n",
              "       `sparse_output` instead.\n",
              "\n",
              "sparse_output : bool, default=True\n",
              "    Will return sparse matrix if set True else will return an array.\n",
              "\n",
              "    .. versionadded:: 1.2\n",
              "       `sparse` was renamed to `sparse_output`\n",
              "\n",
              "dtype : number type, default=np.float64\n",
              "    Desired dtype of output.\n",
              "\n",
              "handle_unknown : {&#x27;error&#x27;, &#x27;ignore&#x27;, &#x27;infrequent_if_exist&#x27;},                      default=&#x27;error&#x27;\n",
              "    Specifies the way unknown categories are handled during :meth:`transform`.\n",
              "\n",
              "    - &#x27;error&#x27; : Raise an error if an unknown category is present during transform.\n",
              "    - &#x27;ignore&#x27; : When an unknown category is encountered during\n",
              "      transform, the resulting one-hot encoded columns for this feature\n",
              "      will be all zeros. In the inverse transform, an unknown category\n",
              "      will be denoted as None.\n",
              "    - &#x27;infrequent_if_exist&#x27; : When an unknown category is encountered\n",
              "      during transform, the resulting one-hot encoded columns for this\n",
              "      feature will map to the infrequent category if it exists. The\n",
              "      infrequent category will be mapped to the last position in the\n",
              "      encoding. During inverse transform, an unknown category will be\n",
              "      mapped to the category denoted `&#x27;infrequent&#x27;` if it exists. If the\n",
              "      `&#x27;infrequent&#x27;` category does not exist, then :meth:`transform` and\n",
              "      :meth:`inverse_transform` will handle an unknown category as with\n",
              "      `handle_unknown=&#x27;ignore&#x27;`. Infrequent categories exist based on\n",
              "      `min_frequency` and `max_categories`. Read more in the\n",
              "      :ref:`User Guide &lt;encoder_infrequent_categories&gt;`.\n",
              "\n",
              "    .. versionchanged:: 1.1\n",
              "        `&#x27;infrequent_if_exist&#x27;` was added to automatically handle unknown\n",
              "        categories and infrequent categories.\n",
              "\n",
              "min_frequency : int or float, default=None\n",
              "    Specifies the minimum frequency below which a category will be\n",
              "    considered infrequent.\n",
              "\n",
              "    - If `int`, categories with a smaller cardinality will be considered\n",
              "      infrequent.\n",
              "\n",
              "    - If `float`, categories with a smaller cardinality than\n",
              "      `min_frequency * n_samples`  will be considered infrequent.\n",
              "\n",
              "    .. versionadded:: 1.1\n",
              "        Read more in the :ref:`User Guide &lt;encoder_infrequent_categories&gt;`.\n",
              "\n",
              "max_categories : int, default=None\n",
              "    Specifies an upper limit to the number of output features for each input\n",
              "    feature when considering infrequent categories. If there are infrequent\n",
              "    categories, `max_categories` includes the category representing the\n",
              "    infrequent categories along with the frequent categories. If `None`,\n",
              "    there is no limit to the number of output features.\n",
              "\n",
              "    .. versionadded:: 1.1\n",
              "        Read more in the :ref:`User Guide &lt;encoder_infrequent_categories&gt;`.\n",
              "\n",
              "feature_name_combiner : &quot;concat&quot; or callable, default=&quot;concat&quot;\n",
              "    Callable with signature `def callable(input_feature, category)` that returns a\n",
              "    string. This is used to create feature names to be returned by\n",
              "    :meth:`get_feature_names_out`.\n",
              "\n",
              "    `&quot;concat&quot;` concatenates encoded feature name and category with\n",
              "    `feature + &quot;_&quot; + str(category)`.E.g. feature X with values 1, 6, 7 create\n",
              "    feature names `X_1, X_6, X_7`.\n",
              "\n",
              "    .. versionadded:: 1.3\n",
              "\n",
              "Attributes\n",
              "----------\n",
              "categories_ : list of arrays\n",
              "    The categories of each feature determined during fitting\n",
              "    (in order of the features in X and corresponding with the output\n",
              "    of ``transform``). This includes the category specified in ``drop``\n",
              "    (if any).\n",
              "\n",
              "drop_idx_ : array of shape (n_features,)\n",
              "    - ``drop_idx_[i]`` is the index in ``categories_[i]`` of the category\n",
              "      to be dropped for each feature.\n",
              "    - ``drop_idx_[i] = None`` if no category is to be dropped from the\n",
              "      feature with index ``i``, e.g. when `drop=&#x27;if_binary&#x27;` and the\n",
              "      feature isn&#x27;t binary.\n",
              "    - ``drop_idx_ = None`` if all the transformed features will be\n",
              "      retained.\n",
              "\n",
              "    If infrequent categories are enabled by setting `min_frequency` or\n",
              "    `max_categories` to a non-default value and `drop_idx[i]` corresponds\n",
              "    to a infrequent category, then the entire infrequent category is\n",
              "    dropped.\n",
              "\n",
              "    .. versionchanged:: 0.23\n",
              "       Added the possibility to contain `None` values.\n",
              "\n",
              "infrequent_categories_ : list of ndarray\n",
              "    Defined only if infrequent categories are enabled by setting\n",
              "    `min_frequency` or `max_categories` to a non-default value.\n",
              "    `infrequent_categories_[i]` are the infrequent categories for feature\n",
              "    `i`. If the feature `i` has no infrequent categories\n",
              "    `infrequent_categories_[i]` is None.\n",
              "\n",
              "    .. versionadded:: 1.1\n",
              "\n",
              "n_features_in_ : int\n",
              "    Number of features seen during :term:`fit`.\n",
              "\n",
              "    .. versionadded:: 1.0\n",
              "\n",
              "feature_names_in_ : ndarray of shape (`n_features_in_`,)\n",
              "    Names of features seen during :term:`fit`. Defined only when `X`\n",
              "    has feature names that are all strings.\n",
              "\n",
              "    .. versionadded:: 1.0\n",
              "\n",
              "feature_name_combiner : callable or None\n",
              "    Callable with signature `def callable(input_feature, category)` that returns a\n",
              "    string. This is used to create feature names to be returned by\n",
              "    :meth:`get_feature_names_out`.\n",
              "\n",
              "    .. versionadded:: 1.3\n",
              "\n",
              "See Also\n",
              "--------\n",
              "OrdinalEncoder : Performs an ordinal (integer)\n",
              "  encoding of the categorical features.\n",
              "TargetEncoder : Encodes categorical features using the target.\n",
              "sklearn.feature_extraction.DictVectorizer : Performs a one-hot encoding of\n",
              "  dictionary items (also handles string-valued features).\n",
              "sklearn.feature_extraction.FeatureHasher : Performs an approximate one-hot\n",
              "  encoding of dictionary items or strings.\n",
              "LabelBinarizer : Binarizes labels in a one-vs-all\n",
              "  fashion.\n",
              "MultiLabelBinarizer : Transforms between iterable of\n",
              "  iterables and a multilabel format, e.g. a (samples x classes) binary\n",
              "  matrix indicating the presence of a class label.\n",
              "\n",
              "Examples\n",
              "--------\n",
              "Given a dataset with two features, we let the encoder find the unique\n",
              "values per feature and transform the data to a binary one-hot encoding.\n",
              "\n",
              "&gt;&gt;&gt; from sklearn.preprocessing import OneHotEncoder\n",
              "\n",
              "One can discard categories not seen during `fit`:\n",
              "\n",
              "&gt;&gt;&gt; enc = OneHotEncoder(handle_unknown=&#x27;ignore&#x27;)\n",
              "&gt;&gt;&gt; X = [[&#x27;Male&#x27;, 1], [&#x27;Female&#x27;, 3], [&#x27;Female&#x27;, 2]]\n",
              "&gt;&gt;&gt; enc.fit(X)\n",
              "OneHotEncoder(handle_unknown=&#x27;ignore&#x27;)\n",
              "&gt;&gt;&gt; enc.categories_\n",
              "[array([&#x27;Female&#x27;, &#x27;Male&#x27;], dtype=object), array([1, 2, 3], dtype=object)]\n",
              "&gt;&gt;&gt; enc.transform([[&#x27;Female&#x27;, 1], [&#x27;Male&#x27;, 4]]).toarray()\n",
              "array([[1., 0., 1., 0., 0.],\n",
              "       [0., 1., 0., 0., 0.]])\n",
              "&gt;&gt;&gt; enc.inverse_transform([[0, 1, 1, 0, 0], [0, 0, 0, 1, 0]])\n",
              "array([[&#x27;Male&#x27;, 1],\n",
              "       [None, 2]], dtype=object)\n",
              "&gt;&gt;&gt; enc.get_feature_names_out([&#x27;gender&#x27;, &#x27;group&#x27;])\n",
              "array([&#x27;gender_Female&#x27;, &#x27;gender_Male&#x27;, &#x27;group_1&#x27;, &#x27;group_2&#x27;, &#x27;group_3&#x27;], ...)\n",
              "\n",
              "One can always drop the first column for each feature:\n",
              "\n",
              "&gt;&gt;&gt; drop_enc = OneHotEncoder(drop=&#x27;first&#x27;).fit(X)\n",
              "&gt;&gt;&gt; drop_enc.categories_\n",
              "[array([&#x27;Female&#x27;, &#x27;Male&#x27;], dtype=object), array([1, 2, 3], dtype=object)]\n",
              "&gt;&gt;&gt; drop_enc.transform([[&#x27;Female&#x27;, 1], [&#x27;Male&#x27;, 2]]).toarray()\n",
              "array([[0., 0., 0.],\n",
              "       [1., 1., 0.]])\n",
              "\n",
              "Or drop a column for feature only having 2 categories:\n",
              "\n",
              "&gt;&gt;&gt; drop_binary_enc = OneHotEncoder(drop=&#x27;if_binary&#x27;).fit(X)\n",
              "&gt;&gt;&gt; drop_binary_enc.transform([[&#x27;Female&#x27;, 1], [&#x27;Male&#x27;, 2]]).toarray()\n",
              "array([[0., 1., 0., 0.],\n",
              "       [1., 0., 1., 0.]])\n",
              "\n",
              "One can change the way feature names are created.\n",
              "\n",
              "&gt;&gt;&gt; def custom_combiner(feature, category):\n",
              "...     return str(feature) + &quot;_&quot; + type(category).__name__ + &quot;_&quot; + str(category)\n",
              "&gt;&gt;&gt; custom_fnames_enc = OneHotEncoder(feature_name_combiner=custom_combiner).fit(X)\n",
              "&gt;&gt;&gt; custom_fnames_enc.get_feature_names_out()\n",
              "array([&#x27;x0_str_Female&#x27;, &#x27;x0_str_Male&#x27;, &#x27;x1_int_1&#x27;, &#x27;x1_int_2&#x27;, &#x27;x1_int_3&#x27;],\n",
              "      dtype=object)\n",
              "\n",
              "Infrequent categories are enabled by setting `max_categories` or `min_frequency`.\n",
              "\n",
              "&gt;&gt;&gt; import numpy as np\n",
              "&gt;&gt;&gt; X = np.array([[&quot;a&quot;] * 5 + [&quot;b&quot;] * 20 + [&quot;c&quot;] * 10 + [&quot;d&quot;] * 3], dtype=object).T\n",
              "&gt;&gt;&gt; ohe = OneHotEncoder(max_categories=3, sparse_output=False).fit(X)\n",
              "&gt;&gt;&gt; ohe.infrequent_categories_\n",
              "[array([&#x27;a&#x27;, &#x27;d&#x27;], dtype=object)]\n",
              "&gt;&gt;&gt; ohe.transform([[&quot;a&quot;], [&quot;b&quot;]])\n",
              "array([[0., 0., 1.],\n",
              "       [1., 0., 0.]])</pre>\n",
              "      <script>\n",
              "      if (google.colab.kernel.accessAllowed && google.colab.files && google.colab.files.view) {\n",
              "        for (const element of document.querySelectorAll('.filepath')) {\n",
              "          element.style.display = 'block'\n",
              "          element.onclick = (event) => {\n",
              "            event.preventDefault();\n",
              "            event.stopPropagation();\n",
              "            google.colab.files.view(element.textContent, 444);\n",
              "          };\n",
              "        }\n",
              "      }\n",
              "      for (const element of document.querySelectorAll('.function-repr-contents')) {\n",
              "        element.onclick = (event) => {\n",
              "          event.preventDefault();\n",
              "          event.stopPropagation();\n",
              "          element.classList.toggle('function-repr-contents-collapsed');\n",
              "        };\n",
              "      }\n",
              "      </script>\n",
              "      </div>"
            ]
          },
          "metadata": {},
          "execution_count": 66
        }
      ]
    },
    {
      "cell_type": "code",
      "source": [
        "# Now you should be able to use transform\n",
        "test_input_sex = ohe_sex.transform(test_input[:,1].reshape(1,1))"
      ],
      "metadata": {
        "colab": {
          "base_uri": "https://localhost:8080/"
        },
        "id": "Jpae1T2LQdOw",
        "outputId": "2af00ee7-527c-4cad-db87-093af5423350"
      },
      "execution_count": 67,
      "outputs": [
        {
          "output_type": "stream",
          "name": "stderr",
          "text": [
            "/usr/local/lib/python3.10/dist-packages/sklearn/base.py:465: UserWarning: X does not have valid feature names, but OneHotEncoder was fitted with feature names\n",
            "  warnings.warn(\n"
          ]
        }
      ]
    },
    {
      "cell_type": "code",
      "source": [
        "test_input_sex"
      ],
      "metadata": {
        "colab": {
          "base_uri": "https://localhost:8080/"
        },
        "id": "9sTQaXiUQJ7J",
        "outputId": "d6552e14-9a0e-4714-8d77-ae8e10f10b19"
      },
      "execution_count": 68,
      "outputs": [
        {
          "output_type": "execute_result",
          "data": {
            "text/plain": [
              "array([[0., 1.]])"
            ]
          },
          "metadata": {},
          "execution_count": 68
        }
      ]
    },
    {
      "cell_type": "code",
      "source": [
        "test_input_embarked = ohe_embarked.transform(test_input[:,-1].reshape(1,1))"
      ],
      "metadata": {
        "id": "_zWrjpfv2oCM"
      },
      "execution_count": 69,
      "outputs": []
    },
    {
      "cell_type": "code",
      "source": [
        "test_input_embarked"
      ],
      "metadata": {
        "colab": {
          "base_uri": "https://localhost:8080/"
        },
        "id": "YgWOEYh62zVq",
        "outputId": "629f83b9-1ab5-44e6-be5e-d042f5f02c9d"
      },
      "execution_count": 70,
      "outputs": [
        {
          "output_type": "execute_result",
          "data": {
            "text/plain": [
              "array([[0., 0., 1.]])"
            ]
          },
          "metadata": {},
          "execution_count": 70
        }
      ]
    },
    {
      "cell_type": "code",
      "source": [
        "test_input = np.concatenate((test_input[:,[0,2,3,4,5]], test_input_sex, test_input_embarked),axis = 1)"
      ],
      "metadata": {
        "id": "lOKc-iC621Wy"
      },
      "execution_count": 71,
      "outputs": []
    },
    {
      "cell_type": "code",
      "source": [
        "test_input"
      ],
      "metadata": {
        "colab": {
          "base_uri": "https://localhost:8080/"
        },
        "id": "Gi9cASDO3y7a",
        "outputId": "497a315a-ef6b-4465-981d-cd759fb038bd"
      },
      "execution_count": 72,
      "outputs": [
        {
          "output_type": "execute_result",
          "data": {
            "text/plain": [
              "array([[2, 31.0, 0, 0, 10.5, 0.0, 1.0, 0.0, 0.0, 1.0]], dtype=object)"
            ]
          },
          "metadata": {},
          "execution_count": 72
        }
      ]
    },
    {
      "cell_type": "code",
      "source": [
        "test_input.shape"
      ],
      "metadata": {
        "colab": {
          "base_uri": "https://localhost:8080/"
        },
        "id": "sA7f1MJn39tw",
        "outputId": "85942a78-9c93-44cb-e3a4-16b05dadf205"
      },
      "execution_count": 73,
      "outputs": [
        {
          "output_type": "execute_result",
          "data": {
            "text/plain": [
              "(1, 10)"
            ]
          },
          "metadata": {},
          "execution_count": 73
        }
      ]
    },
    {
      "cell_type": "code",
      "source": [
        "clf.predict(test_input)"
      ],
      "metadata": {
        "colab": {
          "base_uri": "https://localhost:8080/"
        },
        "id": "TbbYkgtW4EcJ",
        "outputId": "aedbd8e5-074a-47f2-c031-44c9be2a7aa0"
      },
      "execution_count": 74,
      "outputs": [
        {
          "output_type": "execute_result",
          "data": {
            "text/plain": [
              "array([0])"
            ]
          },
          "metadata": {},
          "execution_count": 74
        }
      ]
    },
    {
      "cell_type": "code",
      "source": [],
      "metadata": {
        "id": "2K4t7Sgl4gEs"
      },
      "execution_count": 74,
      "outputs": []
    }
  ]
}